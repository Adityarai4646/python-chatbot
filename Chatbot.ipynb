{
  "nbformat": 4,
  "nbformat_minor": 0,
  "metadata": {
    "colab": {
      "provenance": []
    },
    "kernelspec": {
      "name": "python3",
      "display_name": "Python 3"
    },
    "language_info": {
      "name": "python"
    }
  },
  "cells": [
    {
      "cell_type": "code",
      "execution_count": null,
      "metadata": {
        "colab": {
          "base_uri": "https://localhost:8080/"
        },
        "id": "vUjUeIuZN2vo",
        "outputId": "5d81e3b8-edf9-492a-90d9-f141dd50903a"
      },
      "outputs": [
        {
          "output_type": "stream",
          "name": "stdout",
          "text": [
            "🤖 Chatbot: Hello! I'm your Python Chatbot. Type 'bye' to exit.\n",
            "\n",
            "You: how are you\n",
            "🤖 Chatbot: I'm just a bunch of code, but I'm doing great! 😊\n"
          ]
        }
      ],
      "source": [
        "def chatbot():\n",
        "    print(\"🤖 Chatbot: Hello! I'm your Python Chatbot. Type 'bye' to exit.\\n\")\n",
        "\n",
        "    while True:\n",
        "        user_input = input(\"You: \").lower()\n",
        "        if user_input in ['hi', 'hello', 'hey']:\n",
        "            print(\"🤖 Chatbot: Hi there! How can I help you today?\")\n",
        "        elif user_input in ['how are you', 'how are you doing']:\n",
        "            print(\"🤖 Chatbot: I'm just a bunch of code, but I'm doing great! 😊\")\n",
        "        elif user_input in ['bye', 'exit', 'quit']:\n",
        "            print(\"🤖 Chatbot: Goodbye! Have a great day. 👋\")\n",
        "            break\n",
        "        elif user_input in ['thank you', 'thanks']:\n",
        "            print(\"🤖 Chatbot: You're welcome!\")\n",
        "        else:\n",
        "            print(\"🤖 Chatbot: Sorry, I didn’t understand that. Can you rephrase?\")\n",
        "\n",
        "chatbot()\n"
      ]
    },
    {
      "cell_type": "code",
      "source": [],
      "metadata": {
        "id": "CZDLPOpSN_Kw"
      },
      "execution_count": null,
      "outputs": []
    }
  ]
}